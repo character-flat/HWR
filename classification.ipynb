{
  "nbformat": 4,
  "nbformat_minor": 0,
  "metadata": {
    "colab": {
      "provenance": [],
      "gpuType": "T4"
    },
    "kernelspec": {
      "name": "python3",
      "display_name": "Python 3"
    },
    "language_info": {
      "name": "python"
    },
    "accelerator": "GPU"
  },
  "cells": [
    {
      "cell_type": "code",
      "execution_count": null,
      "metadata": {
        "colab": {
          "base_uri": "https://localhost:8080/"
        },
        "id": "B-wxKUhXpJ0z",
        "outputId": "62abd0ee-d97e-4397-e3a4-004fba25dced"
      },
      "outputs": [
        {
          "output_type": "stream",
          "name": "stdout",
          "text": [
            "<module 'tensorflow._api.v2.version' from '/usr/local/lib/python3.10/dist-packages/tensorflow/_api/v2/version/__init__.py'>\n"
          ]
        }
      ],
      "source": [
        "import pandas as pd\n",
        "import tensorflow as tf\n",
        "import tensorflow.keras\n",
        "import random\n",
        "import numpy\n",
        "print(tf.version)"
      ]
    },
    {
      "cell_type": "code",
      "source": [
        "!pip install gdown"
      ],
      "metadata": {
        "id": "ViFtO77Z3R8G",
        "colab": {
          "base_uri": "https://localhost:8080/"
        },
        "outputId": "fb963e40-3792-4506-efb7-e550193ffde7"
      },
      "execution_count": null,
      "outputs": [
        {
          "output_type": "stream",
          "name": "stdout",
          "text": [
            "Requirement already satisfied: gdown in /usr/local/lib/python3.10/dist-packages (5.1.0)\n",
            "Requirement already satisfied: beautifulsoup4 in /usr/local/lib/python3.10/dist-packages (from gdown) (4.12.3)\n",
            "Requirement already satisfied: filelock in /usr/local/lib/python3.10/dist-packages (from gdown) (3.14.0)\n",
            "Requirement already satisfied: requests[socks] in /usr/local/lib/python3.10/dist-packages (from gdown) (2.31.0)\n",
            "Requirement already satisfied: tqdm in /usr/local/lib/python3.10/dist-packages (from gdown) (4.66.2)\n",
            "Requirement already satisfied: soupsieve>1.2 in /usr/local/lib/python3.10/dist-packages (from beautifulsoup4->gdown) (2.5)\n",
            "Requirement already satisfied: charset-normalizer<4,>=2 in /usr/local/lib/python3.10/dist-packages (from requests[socks]->gdown) (3.3.2)\n",
            "Requirement already satisfied: idna<4,>=2.5 in /usr/local/lib/python3.10/dist-packages (from requests[socks]->gdown) (3.7)\n",
            "Requirement already satisfied: urllib3<3,>=1.21.1 in /usr/local/lib/python3.10/dist-packages (from requests[socks]->gdown) (2.0.7)\n",
            "Requirement already satisfied: certifi>=2017.4.17 in /usr/local/lib/python3.10/dist-packages (from requests[socks]->gdown) (2024.2.2)\n",
            "Requirement already satisfied: PySocks!=1.5.7,>=1.5.6 in /usr/local/lib/python3.10/dist-packages (from requests[socks]->gdown) (1.7.1)\n"
          ]
        }
      ]
    },
    {
      "cell_type": "code",
      "source": [
        "!gdown --id 1-7u4MzeuZ3OSnB4bn2lrGYhALxcCBSNn"
      ],
      "metadata": {
        "id": "XRfaIhbGpgjN",
        "colab": {
          "base_uri": "https://localhost:8080/"
        },
        "outputId": "2d494c1a-9491-43db-e412-1b55bf8b398e"
      },
      "execution_count": null,
      "outputs": [
        {
          "output_type": "stream",
          "name": "stdout",
          "text": [
            "/usr/local/lib/python3.10/dist-packages/gdown/__main__.py:132: FutureWarning: Option `--id` was deprecated in version 4.3.1 and will be removed in 5.0. You don't need to pass it anymore to use a file ID.\n",
            "  warnings.warn(\n",
            "Downloading...\n",
            "From (original): https://drive.google.com/uc?id=1-7u4MzeuZ3OSnB4bn2lrGYhALxcCBSNn\n",
            "From (redirected): https://drive.google.com/uc?id=1-7u4MzeuZ3OSnB4bn2lrGYhALxcCBSNn&confirm=t&uuid=f05a09c4-92db-4631-bf3d-ad616359b9b1\n",
            "To: /content/train.zip\n",
            "100% 1.88G/1.88G [00:13<00:00, 144MB/s]\n"
          ]
        }
      ]
    },
    {
      "cell_type": "code",
      "source": [
        "import zipfile\n",
        "zip_path = '/content/train.zip'\n",
        "\n",
        "with zipfile.ZipFile(zip_path, 'r') as zip_ref:\n",
        "  zip_ref.extractall()"
      ],
      "metadata": {
        "id": "Xo6_GtnmgsGo"
      },
      "execution_count": null,
      "outputs": []
    },
    {
      "cell_type": "code",
      "source": [
        "!ls"
      ],
      "metadata": {
        "colab": {
          "base_uri": "https://localhost:8080/"
        },
        "id": "kH778kSLhSTY",
        "outputId": "46ed6246-babd-4e4d-d3f9-94cb7636e662"
      },
      "execution_count": null,
      "outputs": [
        {
          "output_type": "stream",
          "name": "stdout",
          "text": [
            "sample_data  train  train.zip\n"
          ]
        }
      ]
    },
    {
      "cell_type": "code",
      "source": [
        "!head -20 /content/train/classes.txt"
      ],
      "metadata": {
        "colab": {
          "base_uri": "https://localhost:8080/"
        },
        "id": "q1fqXIDQhT6Z",
        "outputId": "2e77999f-c352-4355-c71f-35be2c8b1389"
      },
      "execution_count": null,
      "outputs": [
        {
          "output_type": "stream",
          "name": "stdout",
          "text": [
            "1 kannada\r\n",
            "2 tamil\r\n",
            "3 telugu\r\n",
            "4 malayalam"
          ]
        }
      ]
    },
    {
      "cell_type": "code",
      "source": [
        "import tensorflow as tf\n",
        "from keras.models import Sequential\n",
        "from keras.layers import Convolution2D\n",
        "from keras.layers import MaxPooling2D\n",
        "from keras.layers import Flatten\n",
        "from keras.layers import Dense\n",
        "from keras.models import model_from_json\n",
        "from tensorflow.keras.preprocessing.image import ImageDataGenerator\n",
        "from tensorflow.keras.optimizers import RMSprop"
      ],
      "metadata": {
        "id": "5VB-iKP9haQn"
      },
      "execution_count": null,
      "outputs": []
    },
    {
      "cell_type": "code",
      "source": [
        "\n",
        "\n",
        "batch_size = 32\n",
        "train_datagen = ImageDataGenerator(rescale=1/255)\n",
        "train_generator = train_datagen.flow_from_directory(\n",
        "        '/content/train',  # training images\n",
        "        target_size=(200, 200),  # resized to 200 x 200\n",
        "        batch_size=batch_size,\n",
        "        classes = ['1','2','3','4'],\n",
        "        class_mode='categorical')\n",
        "\n",
        "\n",
        "model = tf.keras.models.Sequential([\n",
        "    tf.keras.layers.Conv2D(16, (3,3), activation='relu', input_shape=(200, 200, 3)),\n",
        "    tf.keras.layers.MaxPooling2D(2, 2),\n",
        "\n",
        "    tf.keras.layers.Conv2D(32, (3,3), activation='relu'),\n",
        "    tf.keras.layers.MaxPooling2D(2,2),\n",
        "\n",
        "    tf.keras.layers.Conv2D(64, (3,3), activation='relu'),\n",
        "    tf.keras.layers.MaxPooling2D(2,2),\n",
        "\n",
        "    tf.keras.layers.Conv2D(64, (3,3), activation='relu'),\n",
        "    tf.keras.layers.MaxPooling2D(2,2),\n",
        "\n",
        "    tf.keras.layers.Conv2D(64, (3,3), activation='relu'),\n",
        "    tf.keras.layers.MaxPooling2D(2,2),\n",
        "\n",
        "    tf.keras.layers.Flatten(),\n",
        "\n",
        "    tf.keras.layers.Dense(128, activation='relu'),\n",
        "\n",
        "    tf.keras.layers.Dense(4, activation='softmax')\n",
        "])\n",
        "\n",
        "model.summary()\n",
        "\n",
        "\n",
        "\n",
        "model.compile(loss='categorical_crossentropy',optimizer=RMSprop(lr=0.001),metrics=['acc'])\n",
        "\n",
        "total_sample=train_generator.n\n",
        "\n",
        "n_epochs = 30\n",
        "\n",
        "history = model.fit_generator( train_generator, steps_per_epoch=int(total_sample/batch_size), epochs=n_epochs, verbose=1)\n",
        "\n",
        "model.save('model.h5')\n",
        "\n"
      ],
      "metadata": {
        "colab": {
          "base_uri": "https://localhost:8080/"
        },
        "id": "16MwpFQvpzTp",
        "outputId": "a895515c-9c20-493c-f4cb-08b1e0535011"
      },
      "execution_count": null,
      "outputs": [
        {
          "output_type": "stream",
          "name": "stdout",
          "text": [
            "Found 37441 images belonging to 4 classes.\n",
            "Model: \"sequential\"\n",
            "_________________________________________________________________\n",
            " Layer (type)                Output Shape              Param #   \n",
            "=================================================================\n",
            " conv2d (Conv2D)             (None, 198, 198, 16)      448       \n",
            "                                                                 \n",
            " max_pooling2d (MaxPooling2  (None, 99, 99, 16)        0         \n",
            " D)                                                              \n",
            "                                                                 \n",
            " conv2d_1 (Conv2D)           (None, 97, 97, 32)        4640      \n",
            "                                                                 \n",
            " max_pooling2d_1 (MaxPoolin  (None, 48, 48, 32)        0         \n",
            " g2D)                                                            \n",
            "                                                                 \n",
            " conv2d_2 (Conv2D)           (None, 46, 46, 64)        18496     \n",
            "                                                                 \n",
            " max_pooling2d_2 (MaxPoolin  (None, 23, 23, 64)        0         \n",
            " g2D)                                                            \n",
            "                                                                 \n",
            " conv2d_3 (Conv2D)           (None, 21, 21, 64)        36928     \n",
            "                                                                 \n",
            " max_pooling2d_3 (MaxPoolin  (None, 10, 10, 64)        0         \n",
            " g2D)                                                            \n",
            "                                                                 \n",
            " conv2d_4 (Conv2D)           (None, 8, 8, 64)          36928     \n",
            "                                                                 \n",
            " max_pooling2d_4 (MaxPoolin  (None, 4, 4, 64)          0         \n",
            " g2D)                                                            \n",
            "                                                                 \n",
            " flatten (Flatten)           (None, 1024)              0         \n",
            "                                                                 \n",
            " dense (Dense)               (None, 128)               131200    \n",
            "                                                                 \n",
            " dense_1 (Dense)             (None, 4)                 516       \n",
            "                                                                 \n",
            "=================================================================\n",
            "Total params: 229156 (895.14 KB)\n",
            "Trainable params: 229156 (895.14 KB)\n",
            "Non-trainable params: 0 (0.00 Byte)\n",
            "_________________________________________________________________\n"
          ]
        },
        {
          "output_type": "stream",
          "name": "stderr",
          "text": [
            "WARNING:absl:`lr` is deprecated in Keras optimizer, please use `learning_rate` or use the legacy optimizer, e.g.,tf.keras.optimizers.legacy.RMSprop.\n",
            "<ipython-input-7-c9f5799fac57>:67: UserWarning: `Model.fit_generator` is deprecated and will be removed in a future version. Please use `Model.fit`, which supports generators.\n",
            "  history = model.fit_generator(\n"
          ]
        },
        {
          "output_type": "stream",
          "name": "stdout",
          "text": [
            "Epoch 1/30\n",
            "1170/1170 [==============================] - 132s 108ms/step - loss: 0.5047 - acc: 0.7819\n",
            "Epoch 2/30\n",
            "1170/1170 [==============================] - 127s 108ms/step - loss: 0.1476 - acc: 0.9456\n",
            "Epoch 3/30\n",
            "1170/1170 [==============================] - 129s 110ms/step - loss: 0.0868 - acc: 0.9693\n",
            "Epoch 4/30\n",
            "1170/1170 [==============================] - 131s 111ms/step - loss: 0.0588 - acc: 0.9788\n",
            "Epoch 5/30\n",
            "1170/1170 [==============================] - 130s 111ms/step - loss: 0.0457 - acc: 0.9848\n",
            "Epoch 6/30\n",
            "1170/1170 [==============================] - 126s 107ms/step - loss: 0.0430 - acc: 0.9870\n",
            "Epoch 7/30\n",
            "1170/1170 [==============================] - 123s 105ms/step - loss: 0.0324 - acc: 0.9900\n",
            "Epoch 8/30\n",
            "1170/1170 [==============================] - 123s 105ms/step - loss: 0.0320 - acc: 0.9907\n",
            "Epoch 9/30\n",
            "1170/1170 [==============================] - 125s 107ms/step - loss: 0.0290 - acc: 0.9919\n",
            "Epoch 10/30\n",
            "1170/1170 [==============================] - 124s 106ms/step - loss: 0.0265 - acc: 0.9928\n",
            "Epoch 11/30\n",
            "1170/1170 [==============================] - 128s 109ms/step - loss: 0.0259 - acc: 0.9935\n",
            "Epoch 12/30\n",
            "1170/1170 [==============================] - 126s 108ms/step - loss: 0.0256 - acc: 0.9936\n",
            "Epoch 13/30\n",
            "1170/1170 [==============================] - 127s 109ms/step - loss: 0.0227 - acc: 0.9943\n",
            "Epoch 14/30\n",
            "1170/1170 [==============================] - 128s 110ms/step - loss: 0.0239 - acc: 0.9949\n",
            "Epoch 15/30\n",
            "1170/1170 [==============================] - 125s 107ms/step - loss: 0.0240 - acc: 0.9947\n",
            "Epoch 16/30\n",
            "1170/1170 [==============================] - 123s 105ms/step - loss: 0.0235 - acc: 0.9953\n",
            "Epoch 17/30\n",
            "1170/1170 [==============================] - 124s 106ms/step - loss: 0.0258 - acc: 0.9953\n",
            "Epoch 18/30\n",
            "1170/1170 [==============================] - 125s 107ms/step - loss: 0.0212 - acc: 0.9950\n",
            "Epoch 19/30\n",
            "1170/1170 [==============================] - 126s 108ms/step - loss: 0.0206 - acc: 0.9957\n",
            "Epoch 20/30\n",
            "1170/1170 [==============================] - 127s 108ms/step - loss: 0.0231 - acc: 0.9958\n",
            "Epoch 21/30\n",
            "1170/1170 [==============================] - 128s 109ms/step - loss: 0.0246 - acc: 0.9952\n",
            "Epoch 22/30\n",
            "1170/1170 [==============================] - 125s 107ms/step - loss: 0.0197 - acc: 0.9962\n",
            "Epoch 23/30\n",
            "1170/1170 [==============================] - 127s 109ms/step - loss: 0.0233 - acc: 0.9962\n",
            "Epoch 24/30\n",
            "1170/1170 [==============================] - 126s 108ms/step - loss: 0.0261 - acc: 0.9954\n",
            "Epoch 25/30\n",
            "1170/1170 [==============================] - 130s 111ms/step - loss: 0.0197 - acc: 0.9968\n",
            "Epoch 26/30\n",
            "1170/1170 [==============================] - 127s 109ms/step - loss: 0.0285 - acc: 0.9958\n",
            "Epoch 27/30\n",
            "1170/1170 [==============================] - 126s 108ms/step - loss: 0.0229 - acc: 0.9967\n",
            "Epoch 28/30\n",
            "1170/1170 [==============================] - 130s 111ms/step - loss: 0.0237 - acc: 0.9959\n",
            "Epoch 29/30\n",
            "1170/1170 [==============================] - 127s 108ms/step - loss: 0.0230 - acc: 0.9967\n",
            "Epoch 30/30\n",
            "1170/1170 [==============================] - 130s 111ms/step - loss: 0.0295 - acc: 0.9964\n"
          ]
        },
        {
          "output_type": "stream",
          "name": "stderr",
          "text": [
            "/usr/local/lib/python3.10/dist-packages/keras/src/engine/training.py:3103: UserWarning: You are saving your model as an HDF5 file via `model.save()`. This file format is considered legacy. We recommend using instead the native Keras format, e.g. `model.save('my_model.keras')`.\n",
            "  saving_api.save_model(\n"
          ]
        }
      ]
    },
    {
      "cell_type": "code",
      "source": [
        "import numpy as np\n",
        "from keras.preprocessing import image\n",
        "test_image = image.load_img('4.jpg', target_size = (200,200))\n",
        "#test_image = image.img_to_array(test_image)\n",
        "test_image = np.expand_dims(test_image, axis=0)\n",
        "result = model.predict(test_image)\n",
        "\n",
        "if result[0][0] == 1:\n",
        "    print(\"kn\")\n",
        "elif result[0][1] == 1:\n",
        "    print(\"ta\")\n",
        "elif result[0][2] == 1:\n",
        "    print(\"tl\")\n",
        "elif result[0][3] == 1:\n",
        "    print(\"ml\")\n",
        "\n"
      ],
      "metadata": {
        "colab": {
          "base_uri": "https://localhost:8080/"
        },
        "id": "K3lq-vY57T1g",
        "outputId": "26bc4f86-b879-4cab-b36c-119531508662"
      },
      "execution_count": null,
      "outputs": [
        {
          "output_type": "stream",
          "name": "stdout",
          "text": [
            "1/1 [==============================] - 0s 19ms/step\n",
            "ta\n"
          ]
        }
      ]
    },
    {
      "cell_type": "code",
      "source": [
        "print(result)"
      ],
      "metadata": {
        "colab": {
          "base_uri": "https://localhost:8080/"
        },
        "id": "PHNJf8bJLXGb",
        "outputId": "8afb85af-86da-46e2-c423-3c14ba205da6"
      },
      "execution_count": null,
      "outputs": [
        {
          "output_type": "stream",
          "name": "stdout",
          "text": [
            "[[0. 1. 0. 0.]]\n"
          ]
        }
      ]
    },
    {
      "cell_type": "code",
      "source": [],
      "metadata": {
        "id": "ervMol-zLZAc"
      },
      "execution_count": null,
      "outputs": []
    }
  ]
}